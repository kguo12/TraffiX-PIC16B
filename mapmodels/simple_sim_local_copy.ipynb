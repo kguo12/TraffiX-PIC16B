{
 "cells": [
  {
   "cell_type": "code",
   "execution_count": 1,
   "metadata": {},
   "outputs": [],
   "source": [
    "import random"
   ]
  },
  {
   "cell_type": "markdown",
   "metadata": {},
   "source": [
    "We will have a graph with nodes (intersections), edges (roads). \n",
    "\n",
    "Assumptions:\n",
    "- random routing\n",
    "- uniform car distribution?\n",
    "- no time spent in intersection\n",
    "- cars are terminated at nodes which have no outlet"
   ]
  },
  {
   "cell_type": "code",
   "execution_count": 2,
   "metadata": {},
   "outputs": [],
   "source": [
    "class Map:\n",
    "    def __init__(self, intersections, roads):\n",
    "        self.intersections = intersections\n",
    "        self.roads = roads\n",
    "\n",
    "    def update(self):\n",
    "        for road in self.roads:\n",
    "            road.update()\n",
    "\n",
    "class Intersection:\n",
    "    def __init__(self, roads=[]):\n",
    "        self.roads = roads # in ccw order ?\n",
    "        self.terminations = 0\n",
    "\n",
    "        self.get_out_roads()\n",
    "\n",
    "    def add_road(self, road):\n",
    "        self.roads.append(road)\n",
    "        self.get_out_roads()\n",
    "\n",
    "    def get_out_roads(self):\n",
    "        self.out_roads = []\n",
    "        for road in self.roads:\n",
    "            if road.get_start() == self:\n",
    "                self.out_roads.append(road)\n",
    "\n",
    "    def route(self, in_road, num_cars, direction=None):\n",
    "        if direction == None: # if direction is not None\n",
    "            \n",
    "            if in_road.num_cars >= num_cars:\n",
    "                in_road.remove_cars(num_cars)\n",
    "            else:\n",
    "                in_road.num_cars = 0\n",
    "\n",
    "\n",
    "            if len(self.out_roads) != 0:\n",
    "                choice = random.choice(self.out_roads)\n",
    "                choice.add_cars(num_cars)# choose random road\n",
    "            else:\n",
    "                self.terminations += num_cars\n",
    "                \n",
    "            # else cars just disappear\n",
    "\n",
    "\n",
    "\n",
    "\n",
    "class Road:\n",
    "    def __init__(self, dt, start, end, num_cars, speed_limit, length, lanes, name):\n",
    "        self.dt = dt # size of time step\n",
    "        self.start = start # starting intersection\n",
    "        self.end = end # ending intersection\n",
    "        self.num_cars = num_cars # number of cars\n",
    "        self.speed_limit = speed_limit\n",
    "        self.length = length # length of road\n",
    "        self.lanes = lanes # number of lanes\n",
    "        self.name = name\n",
    "        \n",
    "        self.connect()\n",
    "        self.speed = 0\n",
    "        self.update_speed()\n",
    "\n",
    "    def connect(self):\n",
    "        self.start.add_road(self)\n",
    "        self.end.add_road(self)\n",
    "\n",
    "    def update_speed(self):\n",
    "        if self.num_cars > 0:\n",
    "            self.speed =  self.speed_limit / self.num_cars\n",
    "        else:\n",
    "            self.speed = self.speed_limit\n",
    "    \n",
    "    def get_start(self):\n",
    "        return self.start\n",
    "    \n",
    "    def update(self):\n",
    "        self.end.route(in_road = self, num_cars = (self.num_cars * self.speed * self.dt)/self.length) \n",
    "\n",
    "        bar = \"\"\n",
    "        for i in range(int(self.num_cars)):\n",
    "            bar += \"#\"\n",
    "\n",
    "        print(self.name, bar)\n",
    "        # send number of cars into intersection based on uniform density of cars\n",
    "\n",
    "    def add_cars(self, num_cars):\n",
    "        self.num_cars += num_cars\n",
    "    def remove_cars(self, num_cars):\n",
    "        self.num_cars -= num_cars"
   ]
  },
  {
   "cell_type": "code",
   "execution_count": 3,
   "metadata": {},
   "outputs": [],
   "source": [
    "delta_time = 1\n",
    "inter1 = Intersection()\n",
    "inter2 = Intersection()\n",
    "inter3 = Intersection()\n",
    "#   #---\\\n",
    "#   |    #------------#(4)\n",
    "#   #--/\n",
    "inter4 = Intersection()\n",
    "road1 = Road(dt=delta_time, start=inter1, end=inter2, num_cars=20, speed_limit=100, length=100, lanes=1, name=\"1\")\n",
    "road2 = Road(dt=delta_time, start=inter2, end=inter3, num_cars=20, speed_limit=100, length=100, lanes=1, name=\"2\")\n",
    "road3 = Road(dt=delta_time, start=inter3, end=inter1, num_cars=20, speed_limit=100, length=100, lanes=1, name=\"3\")\n",
    "road4 = Road(dt=delta_time, start=inter2, end=inter4, num_cars=20, speed_limit=100, length=100, lanes=1, name=\"4\")"
   ]
  },
  {
   "cell_type": "code",
   "execution_count": 4,
   "metadata": {},
   "outputs": [],
   "source": [
    "map = Map(intersections = [inter1, inter2, inter3, inter4], roads=[road1, road2, road3, road4])"
   ]
  },
  {
   "cell_type": "code",
   "execution_count": 5,
   "metadata": {
    "tags": []
   },
   "outputs": [
    {
     "data": {
      "text/plain": [
       "0.8"
      ]
     },
     "execution_count": 5,
     "metadata": {},
     "output_type": "execute_result"
    }
   ],
   "source": [
    "road4.speed\n",
    "road4.num_cars\n",
    "(road4.num_cars * road4.speed * road4.dt)/road4.length"
   ]
  },
  {
   "cell_type": "code",
   "execution_count": null,
   "metadata": {
    "tags": []
   },
   "outputs": [],
   "source": []
  },
  {
   "cell_type": "code",
   "execution_count": 16,
   "metadata": {},
   "outputs": [
    {
     "name": "stdout",
     "output_type": "stream",
     "text": [
      "1 ###################\n",
      "2 #################\n",
      "3 ###################\n",
      "4 ###############\n",
      "Terminations:  7.457967190700439\n"
     ]
    }
   ],
   "source": [
    "map.update()\n",
    "print(\"Terminations: \", inter4.terminations)"
   ]
  },
  {
   "cell_type": "markdown",
   "metadata": {},
   "source": [
    "Next Steps:\n",
    "- Make a better model wrt choosing how many cars move into the intersection (uniform distribution is bad)\n",
    "- Make it easier to make a Map object (better instantiation of roads, intersections)\n",
    "- Model how the next road affects the previous road\n",
    "- Add visualization"
   ]
  },
  {
   "cell_type": "code",
   "execution_count": null,
   "metadata": {},
   "outputs": [],
   "source": []
  }
 ],
 "metadata": {
  "kernelspec": {
   "display_name": "Python [conda env:PIC16B-25W] *",
   "language": "python",
   "name": "conda-env-PIC16B-25W-py"
  },
  "language_info": {
   "codemirror_mode": {
    "name": "ipython",
    "version": 3
   },
   "file_extension": ".py",
   "mimetype": "text/x-python",
   "name": "python",
   "nbconvert_exporter": "python",
   "pygments_lexer": "ipython3",
   "version": "3.11.6"
  }
 },
 "nbformat": 4,
 "nbformat_minor": 4
}
