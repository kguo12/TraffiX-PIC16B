{
 "cells": [
  {
   "cell_type": "code",
   "execution_count": 1,
   "id": "f008c0d1-6590-4b09-91ca-72fa59efc1a3",
   "metadata": {
    "tags": []
   },
   "outputs": [],
   "source": [
    "import multiprocessing as mp \n",
    "import random\n",
    "import numpy as np\n",
    "import osmnx as ox\n",
    "\n",
    "np.random.seed(63)\n",
    "\n",
    "bounding_box = (-118.45905139825884,34.05810307269331, -118.43480879942018,34.07964233309008 )\n",
    "G = ox.graph.graph_from_bbox(bounding_box, network_type='drive')\n",
    "Gp = ox.projection.project_graph(G)"
   ]
  },
  {
   "cell_type": "code",
   "execution_count": 7,
   "id": "9615abba-0228-4825-93b9-7d63dae0ae3d",
   "metadata": {
    "tags": []
   },
   "outputs": [],
   "source": [
    "class Map:\n",
    "    def __init__(self, intersections, roads):\n",
    "        self.intersections = intersections\n",
    "        self.roads = roads\n",
    "\n",
    "    def update(self):\n",
    "        for road in self.roads:\n",
    "            road.update()\n",
    "\n",
    "class Intersection:\n",
    "    def __init__(self, roads=[]):\n",
    "        self.roads = roads # in ccw order ?\n",
    "        self.terminations = 0\n",
    "\n",
    "        self.get_out_roads()\n",
    "\n",
    "    def add_road(self, road):\n",
    "        self.roads.append(road)\n",
    "        self.get_out_roads()\n",
    "\n",
    "    def get_out_roads(self):\n",
    "        self.out_roads = []\n",
    "        for road in self.roads:\n",
    "            if road.get_start() == self:\n",
    "                self.out_roads.append(road)\n",
    "\n",
    "    def route(self, in_road, num_cars, direction=None):\n",
    "        if direction == None: # if direction is not None\n",
    "            \n",
    "            if in_road.num_cars >= num_cars:\n",
    "                in_road.remove_cars(num_cars)\n",
    "            else:\n",
    "                in_road.num_cars = 0\n",
    "\n",
    "\n",
    "            if len(self.out_roads) != 0:\n",
    "                choice = random.choice(self.out_roads)\n",
    "                choice.add_cars(num_cars)# choose random road\n",
    "            else:\n",
    "                self.terminations += num_cars\n",
    "                \n",
    "            # else cars just disappear\n",
    "\n",
    "\n",
    "\n",
    "\n",
    "class Road:\n",
    "    def __init__(self, dt, start, end, num_cars, speed_limit, length, lanes, name):\n",
    "        self.dt = dt # size of time step\n",
    "        self.start = start # starting intersection\n",
    "        self.end = end # ending intersection\n",
    "        self.num_cars = num_cars # number of cars\n",
    "        self.speed_limit = speed_limit\n",
    "        self.length = length # length of road\n",
    "        self.lanes = lanes # number of lanes\n",
    "        self.name = name\n",
    "        \n",
    "        self.connect()\n",
    "        self.speed = 0\n",
    "        self.update_speed()\n",
    "\n",
    "    def connect(self):\n",
    "        self.start.add_road(self)\n",
    "        self.end.add_road(self)\n",
    "\n",
    "    def update_speed(self):\n",
    "        if self.num_cars > 0:\n",
    "            self.speed =  self.speed_limit / self.num_cars\n",
    "        else:\n",
    "            self.speed = self.speed_limit\n",
    "    \n",
    "    def get_start(self):\n",
    "        return self.start\n",
    "    \n",
    "    def update(self):\n",
    "        self.end.route(in_road = self, num_cars = (self.num_cars * self.speed * self.dt)/self.length) \n",
    "\n",
    "        bar = \"\"\n",
    "        for i in range(int(self.num_cars)):\n",
    "            bar += \"#\"\n",
    "\n",
    "        print(self.name, bar)\n",
    "        # send number of cars into intersection based on uniform density of cars\n",
    "\n",
    "    def add_cars(self, num_cars):\n",
    "        self.num_cars += num_cars\n",
    "    def remove_cars(self, num_cars):\n",
    "        self.num_cars -= num_cars"
   ]
  },
  {
   "cell_type": "code",
   "execution_count": 5,
   "id": "6d9a3384-0a73-4dfc-bd2b-3c1e10c3db89",
   "metadata": {
    "tags": []
   },
   "outputs": [],
   "source": [
    "nodes, edges = ox.graph_to_gdfs(G)"
   ]
  },
  {
   "cell_type": "code",
   "execution_count": 8,
   "id": "4a91b9c7-6db7-4ad0-aeff-8cd57186afaa",
   "metadata": {
    "tags": []
   },
   "outputs": [],
   "source": [
    "intersections = {}\n",
    "for node_id, node_data in nodes.iterrows():\n",
    "    intersections[node_id] = Intersection()\n",
    "\n",
    "# Create a list to store your Road objects\n",
    "roads = []\n",
    "for edge_id, edge_data in edges.iterrows():\n",
    "    start_node_id, end_node_id, _ = edge_id\n",
    "    start_intersection = intersections[start_node_id]\n",
    "    end_intersection = intersections[end_node_id]\n",
    "    \n",
    "    # Extract road properties from the edge data\n",
    "    length = edge_data['length']  # Length of the road in meters\n",
    "    speed_limit = edge_data['maxspeed']  # Speed limit (may need parsing)\n",
    "    lanes = edge_data['lanes']  # Number of lanes (may need parsing)\n",
    "    name = edge_data['name']  # Name of the road\n",
    "    \n",
    "    # Create a Road object\n",
    "    road = Road(\n",
    "        dt=1,  # Time step size (you can adjust this)\n",
    "        start=start_intersection,\n",
    "        end=end_intersection,\n",
    "        num_cars=0,  # Initial number of cars (you can adjust this)\n",
    "        speed_limit=speed_limit,\n",
    "        length=length,\n",
    "        lanes=lanes,\n",
    "        name=name\n",
    "    )\n",
    "    roads.append(road)\n",
    "\n",
    "# Create a Map object\n",
    "traffic_map = Map(intersections=list(intersections.values()), roads=roads)"
   ]
  },
  {
   "cell_type": "code",
   "execution_count": 17,
   "id": "dc23aafb-ff68-494d-874e-df614f209b8b",
   "metadata": {
    "tags": []
   },
   "outputs": [
    {
     "data": {
      "text/plain": [
       "116.61106576517156"
      ]
     },
     "execution_count": 17,
     "metadata": {},
     "output_type": "execute_result"
    }
   ],
   "source": [
    "traffic_map.roads[2].length"
   ]
  }
 ],
 "metadata": {
  "kernelspec": {
   "display_name": "Python [conda env:PIC16B-25W] *",
   "language": "python",
   "name": "conda-env-PIC16B-25W-py"
  },
  "language_info": {
   "codemirror_mode": {
    "name": "ipython",
    "version": 3
   },
   "file_extension": ".py",
   "mimetype": "text/x-python",
   "name": "python",
   "nbconvert_exporter": "python",
   "pygments_lexer": "ipython3",
   "version": "3.11.6"
  }
 },
 "nbformat": 4,
 "nbformat_minor": 5
}
