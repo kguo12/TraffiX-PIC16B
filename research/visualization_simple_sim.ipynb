{
 "cells": [
  {
   "cell_type": "code",
   "execution_count": 3,
   "id": "1da80b4a-2dbc-4b78-9df8-05558d6223d4",
   "metadata": {
    "tags": []
   },
   "outputs": [],
   "source": [
    "import random"
   ]
  },
  {
   "cell_type": "markdown",
   "id": "7809e2cb-7855-42f4-bfe9-838c7640abce",
   "metadata": {},
   "source": [
    "We will have a graph with nodes (intersections), edges (roads). \n",
    "\n",
    "Assumptions:\n",
    "- random routing\n",
    "- uniform car distribution?\n",
    "- no time spent in intersection\n",
    "- cars are terminated at nodes which have no outlet"
   ]
  },
  {
   "cell_type": "code",
   "execution_count": 4,
   "id": "bf0e7ccb-853b-41e8-b462-e9d249d1c55b",
   "metadata": {
    "tags": []
   },
   "outputs": [],
   "source": [
    "class Map:\n",
    "    def __init__(self, intersections, roads):\n",
    "        self.intersections = intersections\n",
    "        self.roads = roads\n",
    "\n",
    "    def update(self):\n",
    "        for road in self.roads:\n",
    "            road.update()\n",
    "\n",
    "class Intersection:\n",
    "    def __init__(self, roads=[]):\n",
    "        self.roads = roads # in ccw order ?\n",
    "        self.terminations = 0\n",
    "\n",
    "        self.get_out_roads()\n",
    "\n",
    "    def add_road(self, road):\n",
    "        self.roads.append(road)\n",
    "        self.get_out_roads()\n",
    "\n",
    "    def get_out_roads(self):\n",
    "        self.out_roads = []\n",
    "        for road in self.roads:\n",
    "            if road.get_start() == self:\n",
    "                self.out_roads.append(road)\n",
    "\n",
    "    def route(self, in_road, num_cars, direction=None):\n",
    "        if direction == None: # if direction is not None\n",
    "            \n",
    "            if in_road.num_cars >= num_cars:\n",
    "                in_road.remove_cars(num_cars)\n",
    "            else:\n",
    "                in_road.num_cars = 0\n",
    "\n",
    "\n",
    "            if len(self.out_roads) != 0:\n",
    "                choice = random.choice(self.out_roads)\n",
    "                choice.add_cars(num_cars)# choose random road\n",
    "            else:\n",
    "                self.terminations += num_cars\n",
    "                \n",
    "            # else cars just disappear\n",
    "\n",
    "\n",
    "\n",
    "\n",
    "class Road:\n",
    "    def __init__(self, dt, start, end, num_cars, speed_limit, length, lanes, name):\n",
    "        self.dt = dt # size of time step\n",
    "        self.start = start # starting intersection\n",
    "        self.end = end # ending intersection\n",
    "        self.num_cars = num_cars # number of cars\n",
    "        self.speed_limit = speed_limit\n",
    "        self.length = length # length of road\n",
    "        self.lanes = lanes # number of lanes\n",
    "        self.name = name\n",
    "        \n",
    "        self.connect()\n",
    "        self.speed = 0\n",
    "        self.update_speed()\n",
    "\n",
    "    def connect(self):\n",
    "        self.start.add_road(self)\n",
    "        self.end.add_road(self)\n",
    "\n",
    "    def update_speed(self):\n",
    "        if self.num_cars > 0:\n",
    "            self.speed =  self.speed_limit / self.num_cars\n",
    "        else:\n",
    "            self.speed = self.speed_limit\n",
    "    \n",
    "    def get_start(self):\n",
    "        return self.start\n",
    "    \n",
    "    def update(self):\n",
    "        self.end.route(in_road = self, num_cars = (self.num_cars * self.speed * self.dt)/self.length) \n",
    "\n",
    "        bar = \"\"\n",
    "        for i in range(int(self.num_cars)):\n",
    "            bar += \"#\"\n",
    "\n",
    "        print(self.name, bar)\n",
    "        # send number of cars into intersection based on uniform density of cars\n",
    "\n",
    "    def add_cars(self, num_cars):\n",
    "        self.num_cars += num_cars\n",
    "    def remove_cars(self, num_cars):\n",
    "        self.num_cars -= num_cars"
   ]
  },
  {
   "cell_type": "code",
   "execution_count": 5,
   "id": "b0df9e41-e886-46f0-9b12-90f871559fa5",
   "metadata": {
    "tags": []
   },
   "outputs": [],
   "source": [
    "delta_time = 1\n",
    "inter1 = Intersection()\n",
    "inter2 = Intersection()\n",
    "inter3 = Intersection()\n",
    "#   #---\\\n",
    "#   |    #------------#(4)\n",
    "#   #--/\n",
    "inter4 = Intersection()\n",
    "road1 = Road(dt=delta_time, start=inter1, end=inter2, num_cars=20, speed_limit=100, length=100, lanes=1, name=\"1\")\n",
    "road2 = Road(dt=delta_time, start=inter2, end=inter3, num_cars=20, speed_limit=100, length=100, lanes=1, name=\"2\")\n",
    "road3 = Road(dt=delta_time, start=inter3, end=inter1, num_cars=20, speed_limit=100, length=100, lanes=1, name=\"3\")\n",
    "road4 = Road(dt=delta_time, start=inter2, end=inter4, num_cars=20, speed_limit=100, length=100, lanes=1, name=\"4\")"
   ]
  },
  {
   "cell_type": "code",
   "execution_count": 7,
   "id": "d44475cd-4d73-4d46-a9b9-d560bd0bea2e",
   "metadata": {
    "tags": []
   },
   "outputs": [],
   "source": [
    "street_map = Map(intersections = [inter1, inter2, inter3, inter4], roads=[road1, road2, road3, road4])"
   ]
  },
  {
   "cell_type": "code",
   "execution_count": 30,
   "id": "f2c4e2cf-859a-4be5-83d9-ed173af87c84",
   "metadata": {
    "tags": []
   },
   "outputs": [],
   "source": [
    "import networkx as nx\n",
    "\n",
    "G = nx.DiGraph()\n",
    "\n",
    "G.add_nodes_from([1,2,3,4])\n",
    "G.add_edge(1, 2, dt=delta_time, num_cars=10, speed_limit=100, length=100, lanes=1, name=\"1\")\n",
    "G.add_edge(2, 3, dt=delta_time, num_cars=20, speed_limit=100, length=100, lanes=1, name=\"2\")\n",
    "G.add_edge(3, 1, dt=delta_time, num_cars=25, speed_limit=100, length=100, lanes=1, name=\"3\")\n",
    "G.add_edge(2, 4, dt=delta_time, num_cars=5, speed_limit=100, length=100, lanes=1, name=\"4\")\n"
   ]
  },
  {
   "cell_type": "code",
   "execution_count": 31,
   "id": "6fe2a31b-b2be-42cb-82be-00aacceb1b34",
   "metadata": {
    "tags": []
   },
   "outputs": [
    {
     "data": {
      "text/plain": [
       "AtlasView({2: {'dt': 1, 'num_cars': 10, 'speed_limit': 100, 'length': 100, 'lanes': 1, 'name': '1'}})"
      ]
     },
     "execution_count": 31,
     "metadata": {},
     "output_type": "execute_result"
    }
   ],
   "source": [
    "G[1]"
   ]
  },
  {
   "cell_type": "code",
   "execution_count": 42,
   "id": "07e415e0-0e43-43b8-a460-09a3f5cab624",
   "metadata": {
    "tags": []
   },
   "outputs": [
    {
     "data": {
      "image/png": "[encoded data removed]",
      "text/plain": [
       "<Figure size 640x480 with 1 Axes>"
      ]
     },
     "metadata": {},
     "output_type": "display_data"
    }
   ],
   "source": [
    "# Normalize weights to a color map (e.g., plt.cm.viridis)\n",
    "import numpy as np\n",
    "import matplotlib.cm as cm\n",
    "from matplotlib import pyplot as plt\n",
    "\n",
    "def plot_current_street_map(street_map):\n",
    "    pass\n",
    "\n",
    "# should be able to call this function after every Map.update() call and it will display the current street map\n",
    "\n",
    "# Testing work\n",
    "\n",
    "# Extract edge weights\n",
    "num_cars = nx.get_edge_attributes(G, 'num_cars')\n",
    "# Convert weights to a list and normalize them for color mapping\n",
    "num_cars_values = list(num_cars.values())\n",
    "norm = plt.Normalize(min(num_cars_values), max(num_cars_values))  # Normalize to [0,1]\n",
    "edge_colors = [cm.YlOrRd(norm(num_cars[edge])) for edge in G.edges]\n",
    "\n",
    "norm = plt.Normalize(0, 1)\n",
    "node_colors = [cm.inferno(norm(1)), cm.inferno(norm(1)), cm.inferno(norm(1)), cm.inferno(norm(0.5))]\n",
    "\n",
    "\n",
    "# Draw the graph with edge colors\n",
    "pos = nx.spring_layout(G)  # Define node positions\n",
    "nx.draw(G, pos, with_labels=True, edge_color=edge_colors, node_color=node_colors, width=2)\n",
    "\n",
    "# Show the graph\n",
    "plt.show()"
   ]
  },
  {
   "cell_type": "code",
   "execution_count": 10,
   "id": "e957cdc8-cf5f-4f1a-9931-ae3cdd952e29",
   "metadata": {
    "tags": []
   },
   "outputs": [
    {
     "name": "stdout",
     "output_type": "stream",
     "text": [
      "1 ###################\n",
      "2 ###################\n",
      "3 ###################\n",
      "4 #################\n",
      "Terminations:  2.8525\n"
     ]
    }
   ],
   "source": [
    "street_map.update()\n",
    "print(\"Terminations: \", inter4.terminations)"
   ]
  },
  {
   "cell_type": "markdown",
   "id": "22674869-28ee-403d-88ea-5fb7675eb5aa",
   "metadata": {},
   "source": [
    "Next Steps:\n",
    "- Make a better model wrt choosing how many cars move into the intersection (uniform distribution is bad)\n",
    "- Make it easier to make a Map object (better instantiation of roads, intersections)\n",
    "- Model how the next road affects the previous road\n",
    "- Add visualization"
   ]
  },
  {
   "cell_type": "code",
   "execution_count": 43,
   "id": "7204b32a-5b7e-433d-a6ce-f90fe214da01",
   "metadata": {
    "tags": []
   },
   "outputs": [
    {
     "name": "stdout",
     "output_type": "stream",
     "text": [
      "1 ###################\n",
      "2 ###################\n",
      "3 ###################\n",
      "4 ################\n",
      "Terminations:  3.7098750000000003\n",
      "1 ###################\n",
      "2 ###################\n",
      "3 ###################\n",
      "4 ###############\n",
      "Terminations:  4.52438125\n",
      "1 ###################\n",
      "2 ###################\n",
      "3 ###################\n",
      "4 ##############\n",
      "Terminations:  5.2981621875\n",
      "1 ###################\n",
      "2 ###################\n",
      "3 ###################\n",
      "4 #############\n",
      "Terminations:  6.033254078125\n",
      "1 ###################\n",
      "2 ###################\n",
      "3 ###################\n",
      "4 #############\n",
      "Terminations:  6.73159137421875\n",
      "1 ###################\n",
      "2 ##################\n",
      "3 ###################\n",
      "4 #############\n",
      "Terminations:  7.4458699473324295\n",
      "1 ###################\n",
      "2 ##################\n",
      "3 ###################\n",
      "4 ############\n",
      "Terminations:  8.124434591790425\n",
      "1 ###################\n",
      "2 ##################\n",
      "3 ###################\n",
      "4 ############\n",
      "Terminations:  8.769071004025522\n",
      "1 ###################\n",
      "2 ##################\n",
      "3 ###################\n",
      "4 ###########\n",
      "Terminations:  9.381475595648862\n",
      "1 ###################\n",
      "2 ##################\n",
      "3 ###################\n",
      "4 ###########\n",
      "Terminations:  9.963259957691035\n"
     ]
    }
   ],
   "source": [
    "for _ in range(10):\n",
    "    street_map.update()\n",
    "    print(\"Terminations: \", inter4.terminations)"
   ]
  },
  {
   "cell_type": "code",
   "execution_count": null,
   "id": "b18c069d-ace3-401d-9c1b-8d6eb14229ef",
   "metadata": {},
   "outputs": [],
   "source": []
  }
 ],
 "metadata": {
  "kernelspec": {
   "display_name": "Python 3 (ipykernel)",
   "language": "python",
   "name": "python3"
  },
  "language_info": {
   "codemirror_mode": {
    "name": "ipython",
    "version": 3
   },
   "file_extension": ".py",
   "mimetype": "text/x-python",
   "name": "python",
   "nbconvert_exporter": "python",
   "pygments_lexer": "ipython3",
   "version": "3.11.6"
  }
 },
 "nbformat": 4,
 "nbformat_minor": 5
}
