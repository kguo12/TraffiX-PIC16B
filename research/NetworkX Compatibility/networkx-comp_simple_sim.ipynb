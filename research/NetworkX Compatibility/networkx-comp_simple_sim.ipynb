{
 "cells": [
  {
   "cell_type": "markdown",
   "id": "aa882c2e-1a6c-4b25-bf0b-b6e4013d798f",
   "metadata": {},
   "source": [
    "#### Updated version of simple_sim\n",
    "\n",
    "Features\n",
    "- input road with starting number of cars $n_0$\n",
    "- sink points (ralphs), each car $\\in [n_0]$ is pursuing one of these points\n",
    "- intersection probabilities are calculated as follows: for all of the routes from input to sink point for a given car, the car is equally likely to take any of them. Sum up the total routes across the network, and normalize accordingly to get the probabilities. \n",
    "- directed, acyclic graph (cars are assumed to flow from input to sink only)\n",
    "- roads have max-capacities. \n",
    "For a given time *episode*,\n",
    "- (traffic lights) each road will be updated (\"green light\") one by one, randomly. At any given \"green light\", $n_0$ (the current amount of cars on the round) times $cv$ (some constant times current road speed) will be the maximum number sent into the intersection, and split up according to p's. If the roads are at max capacity, this may be lower.\n",
    "- The episode ends when all intersections have been updated once.\n",
    "\n",
    "We evaluate a road network by the number of episodes needed for all initial cars to reach the sink points. This can be influenced by certain input parameters, the most important of which is **the structure of the road network**. We additionally will run experiments with constraints, including\n",
    "- limiting the number of possible roads\n",
    "- limiting the carrying capacity of each road\n",
    "and varying other parameters, such as:\n",
    "- number of initial cars\n",
    "- sink point destinations for each car"
   ]
  },
  {
   "cell_type": "raw",
   "id": "37b58269-984d-40aa-ac79-e89b1082c1ca",
   "metadata": {},
   "source": [
    "This version `networkx-comp_simple_sim` is meant to utilize networkx machinery and update methods to be more compatible with networkx-matplotlib visualization (can use `visualization_simple_sim`). \n",
    "It utilizes many of the same methods as `simple_sim`.\n",
    "\n",
    "To do:\n",
    "- add length attribute to edges, change `num_lanes` probably to total length of roads used\n",
    "- implement probability calculations for intersections\n",
    "- implement networkx road updates using simple_sim\n",
    "- make compatibile with visualization_simple_sim methods"
   ]
  },
  {
   "cell_type": "code",
   "execution_count": 17,
   "id": "1d374210-33a9-4bd6-8614-55a6d02023cf",
   "metadata": {
    "tags": []
   },
   "outputs": [],
   "source": [
    "import networkx as nx\n",
    "\n",
    "class Map:\n",
    "    \n",
    "    # Initialization methods\n",
    "    \n",
    "    def __init__(self):\n",
    "        self.G = nx.DiGraph()\n",
    "        self.node_positions = {}\n",
    "        print(\"\"\"\n",
    "        Road network initialized. Methods: \\n\n",
    "        - .add_inter(label, pos)\n",
    "        - .add_road(start, end, dt, speed_limit, lanes, num_cars = 0)\n",
    "        - .simulation_status_check()\n",
    "        \"\"\")\n",
    "        \n",
    "        self.num_lanes = 0\n",
    "        self.inputs = []\n",
    "        self.cars_to_sinks_dict = {}\n",
    "        \n",
    "    def add_inter(self, label, pos):\n",
    "        # label can be int or str\n",
    "        self.G.add_node(label)\n",
    "        self.node_positions[label] = pos\n",
    "        print(f\"Intersection {label} added.\")\n",
    "        \n",
    "    def add_road(self, start, end, dt, speed_limit, lanes, num_cars = 0):\n",
    "        try:\n",
    "            self.G.add_edge(start, end, dt=dt, speed_limit=speed_limit, lanes=lanes, num_cars=num_cars)\n",
    "            print(f\"Road with {lanes} lanes between {start} and {end} added.\")\n",
    "            self.num_lanes += lanes\n",
    "        except:\n",
    "            print(\"Nodes do not exist.\")\n",
    "            \n",
    "    def get_sinks(self):\n",
    "        out_degrees = dict(self.G.out_degree(self.G.nodes))\n",
    "        sinks = [node for node in out_degrees if out_degrees[node] == 0]\n",
    "        print(sinks)\n",
    "            \n",
    "    # Traffic initialization\n",
    "    \n",
    "    def declare_inflow_node(self, node, initial_cars_to_sinks):\n",
    "        \n",
    "        mod_initial_cars_to_sinks = {(node, sink): initial_cars_to_sinks[sink] for sink in initial_cars_to_sinks}\n",
    "        self.cars_to_sinks_dict += mod_initial_cars_to_sinks\n",
    "        initial_cars = 0\n",
    "        for sink in self.cars_to_sinks_dict:\n",
    "            initial_cars += self.cars_to_sinks_dict[(node,sink)]\n",
    "        \n",
    "        self.inputs.append(node)\n",
    "        input_name = \"_i\" + str(len(self.inputs))\n",
    "        self.G.add_node(input_name)\n",
    "        self.node_positions[input_name] = (self.node_positions[node][0] - 0.1, self.node_positions[node][1])\n",
    "        self.add_road(input_name, node, dt=1, speed_limit=100, lanes=1, num_cars=initial_cars)\n",
    "        \n",
    "        print(\"Inflow node added.\")\n",
    "    \n",
    "    # Check and Compilation for simulation\n",
    "    \n",
    "    def simulation_check_compile(self):\n",
    "        # Check for acyclic\n",
    "        assert nx.is_directed_acyclic_graph(self.G), \"Constructed road network is not acyclic. Please try again.\"\n",
    "        \n",
    "        # Store sink points\n",
    "        out_degrees = dict(self.G.out_degree(self.G.nodes))\n",
    "        self.sinks = [node for node in out_degrees if out_degrees[node] == 0]\n",
    "        \n",
    "        # Calculate and endow intersection turn probabilities\n",
    "        \n",
    "        \n",
    "        print(f\"\"\"\n",
    "        Road network satisfactory. Summary:\n",
    "        - Input Nodes: {self.inputs}\n",
    "        - Sinks: {self.sinks}\n",
    "        - Number of lanes used: {self.num_lanes}\n",
    "        - Intersection turn probabilities calculated using weighted routing. Access or manually edit through map.G attributes.\n",
    "        Network sketch:\n",
    "        \"\"\")\n",
    "        nx.draw(self.G)\n",
    "        \n",
    "    # Simulation, time-step update for road network\n",
    "    \n",
    "    def update_time():\n",
    "        pass\n",
    "\n",
    "            \n",
    "class Intersection:\n",
    "    def __init__(self, roads=[]):\n",
    "        self.roads = roads # in ccw order ?\n",
    "        self.terminations = 0\n",
    "\n",
    "        self.get_out_roads()\n",
    "\n",
    "    def add_road(self, road):\n",
    "        self.roads.append(road)\n",
    "        self.get_out_roads()\n",
    "\n",
    "    def get_out_roads(self):\n",
    "        self.out_roads = []\n",
    "        for road in self.roads:\n",
    "            if road.get_start() == self:\n",
    "                self.out_roads.append(road)\n",
    "\n",
    "    def route(self, in_road, num_cars, direction=None):\n",
    "        if direction == None: # if direction is not None\n",
    "            \n",
    "            if in_road.num_cars >= num_cars:\n",
    "                in_road.remove_cars(num_cars)\n",
    "            else:\n",
    "                in_road.num_cars = 0\n",
    "\n",
    "\n",
    "            if len(self.out_roads) != 0:\n",
    "                choice = random.choice(self.out_roads)\n",
    "                choice.add_cars(num_cars)# choose random road\n",
    "            else:\n",
    "                self.terminations += num_cars\n",
    "                \n",
    "            # else cars just disappear\n",
    "\n",
    "\n",
    "\n",
    "\n",
    "class Road:\n",
    "    def __init__(self, dt, start, end, num_cars, speed_limit, length, lanes, name):\n",
    "        self.dt = dt # size of time step\n",
    "        self.start = start # starting intersection\n",
    "        self.end = end # ending intersection\n",
    "        self.num_cars = num_cars # number of cars\n",
    "        self.speed_limit = speed_limit\n",
    "        self.length = length # length of road\n",
    "        self.lanes = lanes # number of lanes\n",
    "        self.name = name\n",
    "        \n",
    "        self.connect()\n",
    "        self.speed = 0\n",
    "        self.update_speed()\n",
    "\n",
    "    def connect(self):\n",
    "        self.start.add_road(self)\n",
    "        self.end.add_road(self)\n",
    "\n",
    "    def update_speed(self):\n",
    "        if self.num_cars > 0:\n",
    "            self.speed =  self.speed_limit / self.num_cars\n",
    "        else:\n",
    "            self.speed = self.speed_limit\n",
    "    \n",
    "    def get_start(self):\n",
    "        return self.start\n",
    "    \n",
    "    def update(self):\n",
    "        self.end.route(in_road = self, num_cars = (self.num_cars * self.speed * self.dt)/self.length) \n",
    "\n",
    "        bar = \"\"\n",
    "        for i in range(int(self.num_cars)):\n",
    "            bar += \"#\"\n",
    "\n",
    "        #print(self.name, bar)\n",
    "        # send number of cars into intersection based on uniform density of cars\n",
    "\n",
    "    def add_cars(self, num_cars):\n",
    "        self.num_cars += num_cars\n",
    "    def remove_cars(self, num_cars):\n",
    "        self.num_cars -= num_cars\n",
    "        \n",
    "        "
   ]
  },
  {
   "cell_type": "code",
   "execution_count": 18,
   "id": "9e473ba3-72ac-44bd-931a-ab67ebd511cf",
   "metadata": {
    "tags": []
   },
   "outputs": [
    {
     "name": "stdout",
     "output_type": "stream",
     "text": [
      "\n",
      "        Road network initialized. Methods: \n",
      "\n",
      "        - .add_inter(label, pos)\n",
      "        - .add_road(start, end, dt, speed_limit, lanes, num_cars = 0)\n",
      "        - .simulation_status_check()\n",
      "        \n"
     ]
    }
   ],
   "source": [
    "m = Map()"
   ]
  },
  {
   "cell_type": "code",
   "execution_count": 19,
   "id": "e275744c-0cc4-405d-9275-8aff744bb19b",
   "metadata": {
    "tags": []
   },
   "outputs": [
    {
     "name": "stdout",
     "output_type": "stream",
     "text": [
      "Intersection 1 added.\n",
      "Intersection sink added.\n",
      "Road with 2 lanes between 1 and sink added.\n"
     ]
    }
   ],
   "source": [
    "m.add_inter(1, (0,0))\n",
    "m.add_inter(\"sink\", (1, 0))\n",
    "m.add_road(1, \"sink\", dt=1, speed_limit=30, lanes=2)"
   ]
  },
  {
   "cell_type": "code",
   "execution_count": 20,
   "id": "c1cc06a4-5af2-4347-b2b2-c7a94b83058c",
   "metadata": {
    "tags": []
   },
   "outputs": [
    {
     "name": "stdout",
     "output_type": "stream",
     "text": [
      "['sink']\n"
     ]
    }
   ],
   "source": [
    "m.get_sinks()"
   ]
  },
  {
   "cell_type": "code",
   "execution_count": 21,
   "id": "c394f683-aa20-40f6-9d7a-9076c1feea09",
   "metadata": {
    "tags": []
   },
   "outputs": [
    {
     "name": "stdout",
     "output_type": "stream",
     "text": [
      "Road with 1 lanes between _i1 and 1 added.\n",
      "Inflow node added.\n"
     ]
    }
   ],
   "source": [
    "m.declare_inflow_node(1, {'sink': 20})"
   ]
  },
  {
   "cell_type": "code",
   "execution_count": 31,
   "id": "801687e8-e90b-42f9-940c-cf5ed29cecb7",
   "metadata": {
    "tags": []
   },
   "outputs": [
    {
     "name": "stdout",
     "output_type": "stream",
     "text": [
      "\n",
      "        Road network satisfactory. Summary:\n",
      "        - Sinks: ['sink']\n",
      "        - Number of lanes used: 3\n",
      "        - Intersection turn probabilities calculated. Access through map.G.edges attributes.\n",
      "        \n"
     ]
    },
    {
     "data": {
      "text/plain": [
       "{'dt': 1, 'speed_limit': 100, 'lanes': 1, 'num_cars': 20}"
      ]
     },
     "execution_count": 31,
     "metadata": {},
     "output_type": "execute_result"
    },
    {
     "data": {
      "image/png": "[encoded data removed]",
      "text/plain": [
       "<Figure size 640x480 with 1 Axes>"
      ]
     },
     "metadata": {},
     "output_type": "display_data"
    }
   ],
   "source": [
    "m.simulation_check_compile()\n",
    "m.G['_i1'][1]"
   ]
  },
  {
   "cell_type": "code",
   "execution_count": null,
   "id": "b428e200-cbd9-4418-90a2-cc0b69c88cfe",
   "metadata": {},
   "outputs": [],
   "source": []
  }
 ],
 "metadata": {
  "kernelspec": {
   "display_name": "Python [conda env:PIC16B-25W] *",
   "language": "python",
   "name": "conda-env-PIC16B-25W-py"
  },
  "language_info": {
   "codemirror_mode": {
    "name": "ipython",
    "version": 3
   },
   "file_extension": ".py",
   "mimetype": "text/x-python",
   "name": "python",
   "nbconvert_exporter": "python",
   "pygments_lexer": "ipython3",
   "version": "3.11.6"
  }
 },
 "nbformat": 4,
 "nbformat_minor": 5
}
