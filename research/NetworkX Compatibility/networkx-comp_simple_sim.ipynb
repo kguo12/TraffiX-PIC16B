{
 "cells": [
  {
   "cell_type": "markdown",
   "id": "aa882c2e-1a6c-4b25-bf0b-b6e4013d798f",
   "metadata": {},
   "source": [
    "#### Updated version of simple_sim\n",
    "\n",
    "Features\n",
    "- input road with starting number of cars $n_0$\n",
    "- sink points (ralphs), each car $\\in [n_0]$ is pursuing one of these points\n",
    "- intersection probabilities are calculated as follows: for all of the routes from input to sink point for a given car, the car is equally likely to take any of them. Sum up the total routes across the network, and normalize accordingly to get the probabilities. \n",
    "- directed, acyclic graph (cars are assumed to flow from input to sink only)\n",
    "- roads have max-capacities. \n",
    "For a given time *episode*,\n",
    "- (traffic lights) each road will be updated (\"green light\") one by one, randomly. At any given \"green light\", $n_0$ (the current amount of cars on the round) times $cv$ (some constant times current road speed) will be the maximum number sent into the intersection, and split up according to p's. If the roads are at max capacity, this may be lower.\n",
    "- The episode ends when all intersections have been updated once.\n",
    "\n",
    "We evaluate a road network by the number of episodes needed for all initial cars to reach the sink points. This can be influenced by certain input parameters, the most important of which is **the structure of the road network**. We additionally will run experiments with constraints, including\n",
    "- limiting the number of possible roads\n",
    "- limiting the carrying capacity of each road\n",
    "and varying other parameters, such as:\n",
    "- number of initial cars\n",
    "- sink point destinations for each car"
   ]
  },
  {
   "cell_type": "raw",
   "id": "37b58269-984d-40aa-ac79-e89b1082c1ca",
   "metadata": {},
   "source": [
    "This version `networkx-comp_simple_sim` is meant to utilize networkx machinery and update methods to be more compatible with networkx-matplotlib visualization (can use `visualization_simple_sim`). \n",
    "It utilizes many of the same methods as `simple_sim`."
   ]
  },
  {
   "cell_type": "code",
   "execution_count": null,
   "id": "1d374210-33a9-4bd6-8614-55a6d02023cf",
   "metadata": {},
   "outputs": [],
   "source": [
    "import networkx as nx\n",
    "\n",
    "class Map:\n",
    "    def __init__():\n",
    "        self.G = nx.DiGraph()\n",
    "    "
   ]
  }
 ],
 "metadata": {
  "kernelspec": {
   "display_name": "Python 3 (ipykernel)",
   "language": "python",
   "name": "python3"
  },
  "language_info": {
   "codemirror_mode": {
    "name": "ipython",
    "version": 3
   },
   "file_extension": ".py",
   "mimetype": "text/x-python",
   "name": "python",
   "nbconvert_exporter": "python",
   "pygments_lexer": "ipython3",
   "version": "3.11.6"
  }
 },
 "nbformat": 4,
 "nbformat_minor": 5
}
